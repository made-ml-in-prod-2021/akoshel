{
 "cells": [
  {
   "cell_type": "markdown",
   "id": "91aedf49",
   "metadata": {},
   "source": [
    "## Imports"
   ]
  },
  {
   "cell_type": "code",
   "execution_count": 1,
   "id": "552ce908",
   "metadata": {
    "ExecuteTime": {
     "end_time": "2021-04-23T14:10:24.219625Z",
     "start_time": "2021-04-23T14:10:18.335895Z"
    }
   },
   "outputs": [
    {
     "name": "stdout",
     "output_type": "stream",
     "text": [
      "ERROR! Session/line number was not unique in database. History logging moved to new session 60\n"
     ]
    }
   ],
   "source": [
    "import pandas as pd\n",
    "import numpy as np\n",
    "import matplotlib.pyplot as plt\n",
    "import seaborn as sns\n",
    "import pandas_profiling"
   ]
  },
  {
   "cell_type": "code",
   "execution_count": 2,
   "id": "5a2544ba",
   "metadata": {
    "ExecuteTime": {
     "end_time": "2021-04-23T14:10:29.155036Z",
     "start_time": "2021-04-23T14:10:29.134618Z"
    }
   },
   "outputs": [],
   "source": [
    "data = pd.read_csv('../data/heart.csv')"
   ]
  },
  {
   "cell_type": "code",
   "execution_count": null,
   "id": "63cd1233",
   "metadata": {
    "ExecuteTime": {
     "end_time": "2021-04-23T14:10:17.208788Z",
     "start_time": "2021-04-23T14:10:07.981Z"
    }
   },
   "outputs": [],
   "source": [
    "data.head()"
   ]
  },
  {
   "cell_type": "markdown",
   "id": "fbdc789a",
   "metadata": {
    "ExecuteTime": {
     "end_time": "2021-04-23T07:50:40.271501Z",
     "start_time": "2021-04-23T07:50:40.263996Z"
    }
   },
   "source": [
    "## Изучение данных"
   ]
  },
  {
   "cell_type": "code",
   "execution_count": null,
   "id": "4b405161",
   "metadata": {
    "ExecuteTime": {
     "end_time": "2021-04-23T14:10:17.211798Z",
     "start_time": "2021-04-23T14:10:08.860Z"
    }
   },
   "outputs": [],
   "source": [
    "data.info()"
   ]
  },
  {
   "cell_type": "code",
   "execution_count": null,
   "id": "f9e8a43f",
   "metadata": {
    "ExecuteTime": {
     "end_time": "2021-04-23T14:10:17.215088Z",
     "start_time": "2021-04-23T14:10:09.140Z"
    }
   },
   "outputs": [],
   "source": [
    "data.isna().sum()"
   ]
  },
  {
   "cell_type": "code",
   "execution_count": null,
   "id": "b2f99afc",
   "metadata": {
    "ExecuteTime": {
     "end_time": "2021-04-23T14:10:17.218471Z",
     "start_time": "2021-04-23T14:10:09.414Z"
    }
   },
   "outputs": [],
   "source": [
    "data.describe()"
   ]
  },
  {
   "cell_type": "markdown",
   "id": "495b49c1",
   "metadata": {},
   "source": [
    "## Подробный отчет данных от pandas profiling"
   ]
  },
  {
   "cell_type": "code",
   "execution_count": null,
   "id": "8bde6df3",
   "metadata": {
    "ExecuteTime": {
     "end_time": "2021-04-23T14:10:17.221118Z",
     "start_time": "2021-04-23T14:10:09.936Z"
    }
   },
   "outputs": [],
   "source": [
    "data.profile_report(title='Pandas Profiling Report', progress_bar=False)"
   ]
  },
  {
   "cell_type": "markdown",
   "id": "95b14ca9",
   "metadata": {},
   "source": [
    "## Категориальные фичи"
   ]
  },
  {
   "cell_type": "code",
   "execution_count": 3,
   "id": "03a7e9c0",
   "metadata": {
    "ExecuteTime": {
     "end_time": "2021-04-23T14:10:32.952343Z",
     "start_time": "2021-04-23T14:10:32.949669Z"
    }
   },
   "outputs": [],
   "source": [
    "category_features = ['sex', 'cpt', 'restecg', 'exang', 'slope', 'ca', 'thal']"
   ]
  },
  {
   "cell_type": "code",
   "execution_count": 4,
   "id": "90c8f55e",
   "metadata": {
    "ExecuteTime": {
     "end_time": "2021-04-23T14:10:33.520380Z",
     "start_time": "2021-04-23T14:10:33.517845Z"
    }
   },
   "outputs": [],
   "source": [
    "numeric_features = list(set(data.columns.tolist()) - (set(category_features + ['target'])))"
   ]
  },
  {
   "cell_type": "code",
   "execution_count": 6,
   "id": "e314f298",
   "metadata": {
    "ExecuteTime": {
     "end_time": "2021-04-23T14:10:41.395513Z",
     "start_time": "2021-04-23T14:10:41.390533Z"
    }
   },
   "outputs": [
    {
     "data": {
      "text/plain": [
       "['chol', 'thalach', 'oldpeak', 'trestbps', 'fbs', 'age', 'cp']"
      ]
     },
     "execution_count": 6,
     "metadata": {},
     "output_type": "execute_result"
    }
   ],
   "source": [
    "numeric_features"
   ]
  },
  {
   "cell_type": "code",
   "execution_count": 7,
   "id": "5e0d178d",
   "metadata": {
    "ExecuteTime": {
     "end_time": "2021-04-23T14:11:35.402081Z",
     "start_time": "2021-04-23T14:11:35.398400Z"
    }
   },
   "outputs": [
    {
     "data": {
      "text/plain": [
       "Index(['age', 'sex', 'cp', 'trestbps', 'chol', 'fbs', 'restecg', 'thalach',\n",
       "       'exang', 'oldpeak', 'slope', 'ca', 'thal', 'target'],\n",
       "      dtype='object')"
      ]
     },
     "execution_count": 7,
     "metadata": {},
     "output_type": "execute_result"
    }
   ],
   "source": [
    "data.columns"
   ]
  },
  {
   "cell_type": "markdown",
   "id": "5544d12e",
   "metadata": {
    "ExecuteTime": {
     "end_time": "2021-04-23T07:47:39.226740Z",
     "start_time": "2021-04-23T07:47:39.224521Z"
    }
   },
   "source": [
    "## end"
   ]
  },
  {
   "cell_type": "code",
   "execution_count": null,
   "id": "394b6064",
   "metadata": {},
   "outputs": [],
   "source": []
  }
 ],
 "metadata": {
  "kernelspec": {
   "display_name": "Python 3",
   "language": "python",
   "name": "python3"
  },
  "language_info": {
   "codemirror_mode": {
    "name": "ipython",
    "version": 3
   },
   "file_extension": ".py",
   "mimetype": "text/x-python",
   "name": "python",
   "nbconvert_exporter": "python",
   "pygments_lexer": "ipython3",
   "version": "3.7.10"
  },
  "toc": {
   "base_numbering": 1,
   "nav_menu": {},
   "number_sections": true,
   "sideBar": true,
   "skip_h1_title": false,
   "title_cell": "Table of Contents",
   "title_sidebar": "Contents",
   "toc_cell": false,
   "toc_position": {},
   "toc_section_display": true,
   "toc_window_display": true
  },
  "varInspector": {
   "cols": {
    "lenName": 16,
    "lenType": 16,
    "lenVar": 40
   },
   "kernels_config": {
    "python": {
     "delete_cmd_postfix": "",
     "delete_cmd_prefix": "del ",
     "library": "var_list.py",
     "varRefreshCmd": "print(var_dic_list())"
    },
    "r": {
     "delete_cmd_postfix": ") ",
     "delete_cmd_prefix": "rm(",
     "library": "var_list.r",
     "varRefreshCmd": "cat(var_dic_list()) "
    }
   },
   "types_to_exclude": [
    "module",
    "function",
    "builtin_function_or_method",
    "instance",
    "_Feature"
   ],
   "window_display": false
  }
 },
 "nbformat": 4,
 "nbformat_minor": 5
}
